{
 "cells": [
  {
   "cell_type": "markdown",
   "metadata": {},
   "source": [
    "Game theory:\n",
    " Is the study of strategic interactions between rational agents"
   ]
  },
  {
   "cell_type": "code",
   "execution_count": 2,
   "metadata": {},
   "outputs": [
    {
     "name": "stdout",
     "output_type": "stream",
     "text": [
      "Zero sum game with payoff matrices:\n",
      "\n",
      "Row player:\n",
      "[[ 0 -1  1]\n",
      " [ 1  0 -1]\n",
      " [-1  1  0]]\n",
      "\n",
      "Column player:\n",
      "[[ 0  1 -1]\n",
      " [-1  0  1]\n",
      " [ 1 -1  0]]\n"
     ]
    }
   ],
   "source": [
    "#Creating a game\n",
    "import nashpy as nash\n",
    "import numpy as np\n",
    "A= np.array([[0 ,-1,1],[1,0,-1],[-1,1,0]])\n",
    "rps=nash.Game(A)\n",
    "print(rps)"
   ]
  },
  {
   "cell_type": "code",
   "execution_count": 3,
   "metadata": {},
   "outputs": [
    {
     "name": "stdout",
     "output_type": "stream",
     "text": [
      "Zero sum game with payoff matrices:\n",
      "\n",
      "Row player:\n",
      "[[ 0 -1  1]\n",
      " [ 1  0 -1]\n",
      " [-1  1  0]]\n",
      "\n",
      "Column player:\n",
      "[[ 0  1 -1]\n",
      " [-1  0  1]\n",
      " [ 1 -1  0]]\n"
     ]
    }
   ],
   "source": [
    "# Another method is\n",
    "B=-A\n",
    "rps2=nash.Game(A,B)\n",
    "print(rps2)"
   ]
  },
  {
   "cell_type": "markdown",
   "metadata": {},
   "source": [
    "If Row Player use the third strategy \n",
    "and the column player use the the second stretegy . \n",
    "We can use the modelisation with vectors\n"
   ]
  },
  {
   "cell_type": "code",
   "execution_count": 4,
   "metadata": {},
   "outputs": [
    {
     "name": "stdout",
     "output_type": "stream",
     "text": [
      "[ 1 -1]\n"
     ]
    }
   ],
   "source": [
    "sigma_r=[0,0,1]\n",
    "sigma_c=[0,1,0]\n",
    "print(rps[sigma_r,sigma_c])"
   ]
  },
  {
   "cell_type": "code",
   "execution_count": 5,
   "metadata": {},
   "outputs": [
    {
     "name": "stdout",
     "output_type": "stream",
     "text": [
      "[0. 0.]\n"
     ]
    }
   ],
   "source": [
    "sigma_c=[1/2,1/2,0]\n",
    "print(rps[sigma_r,sigma_c])"
   ]
  },
  {
   "cell_type": "code",
   "execution_count": null,
   "metadata": {},
   "outputs": [],
   "source": []
  }
 ],
 "metadata": {
  "interpreter": {
   "hash": "916dbcbb3f70747c44a77c7bcd40155683ae19c65e1c03b4aa3499c5328201f1"
  },
  "kernelspec": {
   "display_name": "Python 3.8.10 64-bit",
   "name": "python3"
  },
  "language_info": {
   "codemirror_mode": {
    "name": "ipython",
    "version": 3
   },
   "file_extension": ".py",
   "mimetype": "text/x-python",
   "name": "python",
   "nbconvert_exporter": "python",
   "pygments_lexer": "ipython3",
   "version": "3.8.10"
  },
  "orig_nbformat": 4
 },
 "nbformat": 4,
 "nbformat_minor": 2
}
